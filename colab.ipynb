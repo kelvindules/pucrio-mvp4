{
  "nbformat": 4,
  "nbformat_minor": 0,
  "metadata": {
    "colab": {
      "provenance": [],
      "authorship_tag": "ABX9TyMApTGP3FzpqYDWk2p20WLa",
      "include_colab_link": true
    },
    "kernelspec": {
      "name": "python3",
      "display_name": "Python 3"
    },
    "language_info": {
      "name": "python"
    }
  },
  "cells": [
    {
      "cell_type": "markdown",
      "metadata": {
        "id": "view-in-github",
        "colab_type": "text"
      },
      "source": [
        "<a href=\"https://colab.research.google.com/github/kelvindules/pucrio-mvp4/blob/main/colab.ipynb\" target=\"_parent\"><img src=\"https://colab.research.google.com/assets/colab-badge.svg\" alt=\"Open In Colab\"/></a>"
      ]
    },
    {
      "cell_type": "code",
      "source": [
        "import pandas as pd\n",
        "from sklearn.model_selection import train_test_split\n",
        "from sklearn.tree import DecisionTreeClassifier\n",
        "from sklearn.ensemble import RandomForestClassifier\n",
        "from sklearn.metrics import accuracy_score, classification_report\n",
        "from xgboost import XGBClassifier"
      ],
      "metadata": {
        "id": "F2u1ZtL62R7n"
      },
      "execution_count": 1,
      "outputs": []
    },
    {
      "cell_type": "code",
      "source": [
        "# Carregando dados\n",
        "csv_url = 'https://raw.githubusercontent.com/kelvindules/pucrio-mvp4/main/tests/game_teams_stats.csv'\n",
        "df = pd.read_csv(csv_url)"
      ],
      "metadata": {
        "id": "ekN-TfCd2iMs"
      },
      "execution_count": 2,
      "outputs": []
    },
    {
      "cell_type": "code",
      "source": [
        "# Removendo registros ruins\n",
        "df = df.dropna()"
      ],
      "metadata": {
        "id": "2MTVettk_nW5"
      },
      "execution_count": 3,
      "outputs": []
    },
    {
      "cell_type": "code",
      "source": [
        "# Indicadores de jogadas agressivas\n",
        "X = df[[\"hits\", \"takeaways\", \"faceOffWinPercentage\"]]\n",
        "\n",
        "# Indicador de vitória\n",
        "y = df[\"won\"]"
      ],
      "metadata": {
        "id": "ZKkdHM-7_wNF"
      },
      "execution_count": 4,
      "outputs": []
    },
    {
      "cell_type": "code",
      "source": [
        "# Dividindo o dataset em treino e teste\n",
        "X_train, X_test, y_train, y_test = train_test_split(\n",
        "  X, y, test_size=0.2, random_state=42\n",
        ")"
      ],
      "metadata": {
        "id": "sfYimtjv_yr4"
      },
      "execution_count": 5,
      "outputs": []
    },
    {
      "cell_type": "code",
      "execution_count": 6,
      "metadata": {
        "id": "kh553Qg-zyW7"
      },
      "outputs": [],
      "source": [
        "# DecisionTreeClassifier\n",
        "dt_classifier = DecisionTreeClassifier(random_state=42)\n",
        "dt_classifier.fit(X_train, y_train)\n",
        "dt_prediction = dt_classifier.predict(X_test)\n",
        "\n",
        "# RandomForestClassifier\n",
        "rf_classifier = RandomForestClassifier(random_state=42)\n",
        "rf_classifier.fit(X_train, y_train)\n",
        "rf_prediction = rf_classifier.predict(X_test)\n",
        "\n",
        "# XGBClassifier\n",
        "xgb_classifier = XGBClassifier(random_state=42)\n",
        "xgb_classifier.fit(X_train, y_train)\n",
        "xgb_prediction = xgb_classifier.predict(X_test)\n"
      ]
    },
    {
      "cell_type": "code",
      "source": [
        "print(\"DecisionTreeClassifier:\")\n",
        "print(\"Precisão:\", accuracy_score(y_test, dt_prediction))\n",
        "print(\"Relatório:\\n\", classification_report(y_test, dt_prediction))\n",
        "\n",
        "print(\"RandomForestClassifier:\")\n",
        "print(\"Precisão:\", accuracy_score(y_test, rf_prediction))\n",
        "print(\"Relatório:\\n\", classification_report(y_test, rf_prediction))\n",
        "\n",
        "print(\"XBGClassifier:\")\n",
        "print(\"Precisão:\", accuracy_score(y_test, xgb_prediction))\n",
        "print(\"Relatório:\\n\", classification_report(y_test, xgb_prediction))"
      ],
      "metadata": {
        "id": "FSShuWuJ_4CB",
        "outputId": "46202d3e-ff56-4b19-800b-508e676406e1",
        "colab": {
          "base_uri": "https://localhost:8080/"
        }
      },
      "execution_count": 7,
      "outputs": [
        {
          "output_type": "stream",
          "name": "stdout",
          "text": [
            "DecisionTreeClassifier:\n",
            "Precisão: 0.62003045170022\n",
            "Relatório:\n",
            "               precision    recall  f1-score   support\n",
            "\n",
            "       False       0.61      0.66      0.63      2912\n",
            "        True       0.64      0.58      0.61      2999\n",
            "\n",
            "    accuracy                           0.62      5911\n",
            "   macro avg       0.62      0.62      0.62      5911\n",
            "weighted avg       0.62      0.62      0.62      5911\n",
            "\n",
            "RandomForestClassifier:\n",
            "Precisão: 0.6163085772288953\n",
            "Relatório:\n",
            "               precision    recall  f1-score   support\n",
            "\n",
            "       False       0.61      0.62      0.61      2912\n",
            "        True       0.62      0.62      0.62      2999\n",
            "\n",
            "    accuracy                           0.62      5911\n",
            "   macro avg       0.62      0.62      0.62      5911\n",
            "weighted avg       0.62      0.62      0.62      5911\n",
            "\n",
            "XBGClassifier:\n",
            "Precisão: 0.564879039079682\n",
            "Relatório:\n",
            "               precision    recall  f1-score   support\n",
            "\n",
            "       False       0.56      0.57      0.56      2912\n",
            "        True       0.57      0.56      0.57      2999\n",
            "\n",
            "    accuracy                           0.56      5911\n",
            "   macro avg       0.56      0.56      0.56      5911\n",
            "weighted avg       0.57      0.56      0.56      5911\n",
            "\n"
          ]
        }
      ]
    },
    {
      "cell_type": "markdown",
      "source": [
        "Os resultados demonstram que há certa correlatividade entre as jogadas agressivas (hits, takeaways e faceoffs) e os resultados das partidas. Todos os modelos selecionados alcançam precisão maior que 0.55, sendo o melhor para o nosso caso de uso o modelo de Árvore de Decisão, que alcança 0.62 no dataset utilizado."
      ],
      "metadata": {
        "id": "Ag_f2mrkB2JV"
      }
    }
  ]
}