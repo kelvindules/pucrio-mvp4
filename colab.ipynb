{
  "nbformat": 4,
  "nbformat_minor": 0,
  "metadata": {
    "colab": {
      "provenance": [],
      "authorship_tag": "ABX9TyN++c+k8Qe+JEmRXBLrpxfP",
      "include_colab_link": true
    },
    "kernelspec": {
      "name": "python3",
      "display_name": "Python 3"
    },
    "language_info": {
      "name": "python"
    }
  },
  "cells": [
    {
      "cell_type": "markdown",
      "metadata": {
        "id": "view-in-github",
        "colab_type": "text"
      },
      "source": [
        "<a href=\"https://colab.research.google.com/github/kelvindules/pucrio-mvp4/blob/main/colab.ipynb\" target=\"_parent\"><img src=\"https://colab.research.google.com/assets/colab-badge.svg\" alt=\"Open In Colab\"/></a>"
      ]
    },
    {
      "cell_type": "code",
      "source": [
        "import pandas as pd\n",
        "from sklearn.model_selection import train_test_split\n",
        "from sklearn.tree import DecisionTreeClassifier\n",
        "from sklearn.ensemble import RandomForestClassifier\n",
        "from sklearn.metrics import accuracy_score, classification_report\n",
        "from xgboost import XGBClassifier"
      ],
      "metadata": {
        "id": "F2u1ZtL62R7n"
      },
      "execution_count": 2,
      "outputs": []
    },
    {
      "cell_type": "code",
      "source": [
        "csv_url = 'https://raw.githubusercontent.com/kelvindules/pucrio-mvp4/main/tests/game_teams_stats.csv'\n",
        "df = pd.read_csv(csv_url)"
      ],
      "metadata": {
        "id": "ekN-TfCd2iMs"
      },
      "execution_count": 3,
      "outputs": []
    },
    {
      "cell_type": "code",
      "execution_count": 4,
      "metadata": {
        "colab": {
          "base_uri": "https://localhost:8080/"
        },
        "id": "kh553Qg-zyW7",
        "outputId": "71986fe3-270b-46c2-f158-46e963adc235"
      },
      "outputs": [
        {
          "output_type": "stream",
          "name": "stdout",
          "text": [
            "DecisionTreeClassifier:\n",
            "Precisão: 0.62003045170022\n",
            "Relatório:\n",
            "               precision    recall  f1-score   support\n",
            "\n",
            "       False       0.61      0.66      0.63      2912\n",
            "        True       0.64      0.58      0.61      2999\n",
            "\n",
            "    accuracy                           0.62      5911\n",
            "   macro avg       0.62      0.62      0.62      5911\n",
            "weighted avg       0.62      0.62      0.62      5911\n",
            "\n",
            "RandomForestClassifier:\n",
            "Precisão: 0.6163085772288953\n",
            "Relatório:\n",
            "               precision    recall  f1-score   support\n",
            "\n",
            "       False       0.61      0.62      0.61      2912\n",
            "        True       0.62      0.62      0.62      2999\n",
            "\n",
            "    accuracy                           0.62      5911\n",
            "   macro avg       0.62      0.62      0.62      5911\n",
            "weighted avg       0.62      0.62      0.62      5911\n",
            "\n",
            "XBGClassifier:\n",
            "Precisão: 0.564879039079682\n",
            "Relatório:\n",
            "               precision    recall  f1-score   support\n",
            "\n",
            "       False       0.56      0.57      0.56      2912\n",
            "        True       0.57      0.56      0.57      2999\n",
            "\n",
            "    accuracy                           0.56      5911\n",
            "   macro avg       0.56      0.56      0.56      5911\n",
            "weighted avg       0.57      0.56      0.56      5911\n",
            "\n"
          ]
        }
      ],
      "source": [
        "# Removendo registros com valores faltando\n",
        "df = df.dropna()\n",
        "\n",
        "# Indicadores de jogadas agressivas\n",
        "X = df[[\"hits\", \"takeaways\", \"faceOffWinPercentage\"]]\n",
        "\n",
        "# Indicador de vitória\n",
        "y = df[\"won\"]\n",
        "\n",
        "# Dividindo o dataset em treino e teste\n",
        "X_train, X_test, y_train, y_test = train_test_split(\n",
        "  X, y, test_size=0.2, random_state=42\n",
        ")\n",
        "\n",
        "# DecisionTreeClassifier\n",
        "dt_classifier = DecisionTreeClassifier(random_state=42)\n",
        "dt_classifier.fit(X_train, y_train)\n",
        "dt_prediction = dt_classifier.predict(X_test)\n",
        "\n",
        "# RandomForestClassifier\n",
        "rf_classifier = RandomForestClassifier(random_state=42)\n",
        "rf_classifier.fit(X_train, y_train)\n",
        "rf_prediction = rf_classifier.predict(X_test)\n",
        "\n",
        "# XGBClassifier\n",
        "xgb_classifier = XGBClassifier(random_state=42)\n",
        "xgb_classifier.fit(X_train, y_train)\n",
        "xgb_prediction = xgb_classifier.predict(X_test)\n",
        "\n",
        "print(\"DecisionTreeClassifier:\")\n",
        "print(\"Precisão:\", accuracy_score(y_test, dt_prediction))\n",
        "print(\"Relatório:\\n\", classification_report(y_test, dt_prediction))\n",
        "\n",
        "print(\"RandomForestClassifier:\")\n",
        "print(\"Precisão:\", accuracy_score(y_test, rf_prediction))\n",
        "print(\"Relatório:\\n\", classification_report(y_test, rf_prediction))\n",
        "\n",
        "print(\"XBGClassifier:\")\n",
        "print(\"Precisão:\", accuracy_score(y_test, xgb_prediction))\n",
        "print(\"Relatório:\\n\", classification_report(y_test, xgb_prediction))"
      ]
    }
  ]
}